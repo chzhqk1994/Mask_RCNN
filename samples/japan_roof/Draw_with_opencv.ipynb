{
 "cells": [
  {
   "cell_type": "markdown",
   "metadata": {},
   "source": [
    "# Mask R-CNN - Inspect Ballon Trained Model\n",
    "\n",
    "Code and visualizations to test, debug, and evaluate the Mask R-CNN model."
   ]
  },
  {
   "cell_type": "code",
   "execution_count": 1,
   "metadata": {},
   "outputs": [
    {
     "name": "stderr",
     "output_type": "stream",
     "text": [
      "/usr/local/lib/python3.6/dist-packages/tensorflow/python/framework/dtypes.py:526: FutureWarning: Passing (type, 1) or '1type' as a synonym of type is deprecated; in a future version of numpy, it will be understood as (type, (1,)) / '(1,)type'.\n",
      "  _np_qint8 = np.dtype([(\"qint8\", np.int8, 1)])\n",
      "/usr/local/lib/python3.6/dist-packages/tensorflow/python/framework/dtypes.py:527: FutureWarning: Passing (type, 1) or '1type' as a synonym of type is deprecated; in a future version of numpy, it will be understood as (type, (1,)) / '(1,)type'.\n",
      "  _np_quint8 = np.dtype([(\"quint8\", np.uint8, 1)])\n",
      "/usr/local/lib/python3.6/dist-packages/tensorflow/python/framework/dtypes.py:528: FutureWarning: Passing (type, 1) or '1type' as a synonym of type is deprecated; in a future version of numpy, it will be understood as (type, (1,)) / '(1,)type'.\n",
      "  _np_qint16 = np.dtype([(\"qint16\", np.int16, 1)])\n",
      "/usr/local/lib/python3.6/dist-packages/tensorflow/python/framework/dtypes.py:529: FutureWarning: Passing (type, 1) or '1type' as a synonym of type is deprecated; in a future version of numpy, it will be understood as (type, (1,)) / '(1,)type'.\n",
      "  _np_quint16 = np.dtype([(\"quint16\", np.uint16, 1)])\n",
      "/usr/local/lib/python3.6/dist-packages/tensorflow/python/framework/dtypes.py:530: FutureWarning: Passing (type, 1) or '1type' as a synonym of type is deprecated; in a future version of numpy, it will be understood as (type, (1,)) / '(1,)type'.\n",
      "  _np_qint32 = np.dtype([(\"qint32\", np.int32, 1)])\n",
      "/usr/local/lib/python3.6/dist-packages/tensorflow/python/framework/dtypes.py:535: FutureWarning: Passing (type, 1) or '1type' as a synonym of type is deprecated; in a future version of numpy, it will be understood as (type, (1,)) / '(1,)type'.\n",
      "  np_resource = np.dtype([(\"resource\", np.ubyte, 1)])\n",
      "Using TensorFlow backend.\n"
     ]
    }
   ],
   "source": [
    "import os\n",
    "import sys\n",
    "import random\n",
    "import math\n",
    "import re\n",
    "import time\n",
    "import numpy as np\n",
    "import tensorflow as tf\n",
    "import matplotlib\n",
    "import matplotlib.pyplot as plt\n",
    "import matplotlib.patches as patches\n",
    "from skimage import io\n",
    "\n",
    "# Root directory of the project\n",
    "ROOT_DIR = os.path.abspath(\"../../\")\n",
    "\n",
    "# Import Mask RCNN\n",
    "sys.path.append(ROOT_DIR)  # To find local version of the library\n",
    "from mrcnn import utils\n",
    "from mrcnn import visualize\n",
    "import mrcnn.model as modellib\n",
    "from mrcnn.model import log\n",
    "\n",
    "from samples.japan_roof import japan_roof\n",
    "os.environ['CUDA_VISIBLE_DEVICES'] = '-1'\n",
    "%matplotlib inline \n",
    "\n",
    "# Directory to save logs and trained model\n",
    "MODEL_DIR = os.path.join(ROOT_DIR, \"logs\")\n",
    "\n",
    "# Path to Ballon trained weights\n",
    "# You can download this file from the Releases page\n",
    "# https://github.com/matterport/Mask_RCNN/releases\n",
    "\n",
    "# ckpt_number = 9245\n",
    "ckpt_number = 10699\n",
    "BALLON_WEIGHTS_PATH = \"../../logs/pascalvoc20200629T0141/mask_rcnn_pascalvoc_\" + str(ckpt_number) + \".h5\"  # TODO: update this path"
   ]
  },
  {
   "cell_type": "markdown",
   "metadata": {},
   "source": [
    "## Configurations"
   ]
  },
  {
   "cell_type": "code",
   "execution_count": 2,
   "metadata": {},
   "outputs": [
    {
     "name": "stdout",
     "output_type": "stream",
     "text": [
      "/root/japan_roof_dataset_2000_solarpanel\n"
     ]
    }
   ],
   "source": [
    "config = japan_roof.PascalVOCConfig()\n",
    "JAPAN_ROOF_DIR = os.path.join(ROOT_DIR, \"/root/japan_roof_dataset_2000_solarpanel\")\n",
    "print(JAPAN_ROOF_DIR)"
   ]
  },
  {
   "cell_type": "code",
   "execution_count": 3,
   "metadata": {},
   "outputs": [
    {
     "name": "stdout",
     "output_type": "stream",
     "text": [
      "\n",
      "Configurations:\n",
      "BACKBONE                       resnet101\n",
      "BACKBONE_STRIDES               [4, 8, 16, 32, 64]\n",
      "BATCH_SIZE                     1\n",
      "BBOX_STD_DEV                   [0.1 0.1 0.2 0.2]\n",
      "COMPUTE_BACKBONE_SHAPE         None\n",
      "DETECTION_MAX_INSTANCES        100\n",
      "DETECTION_MIN_CONFIDENCE       0.8\n",
      "DETECTION_NMS_THRESHOLD        0.3\n",
      "FPN_CLASSIF_FC_LAYERS_SIZE     1024\n",
      "GPU_COUNT                      1\n",
      "GRADIENT_CLIP_NORM             5.0\n",
      "IMAGES_PER_GPU                 1\n",
      "IMAGE_CHANNEL_COUNT            3\n",
      "IMAGE_MAX_DIM                  1024\n",
      "IMAGE_META_SIZE                22\n",
      "IMAGE_MIN_DIM                  800\n",
      "IMAGE_MIN_SCALE                0\n",
      "IMAGE_RESIZE_MODE              square\n",
      "IMAGE_SHAPE                    [1024 1024    3]\n",
      "LEARNING_MOMENTUM              0.9\n",
      "LEARNING_RATE                  0.001\n",
      "LOSS_WEIGHTS                   {'rpn_class_loss': 1.0, 'rpn_bbox_loss': 1.0, 'mrcnn_class_loss': 1.0, 'mrcnn_bbox_loss': 1.0, 'mrcnn_mask_loss': 1.0}\n",
      "MASK_POOL_SIZE                 14\n",
      "MASK_SHAPE                     [28, 28]\n",
      "MAX_GT_INSTANCES               100\n",
      "MEAN_PIXEL                     [123.7 116.8 103.9]\n",
      "MINI_MASK_SHAPE                (56, 56)\n",
      "NAME                           pascalvoc\n",
      "NUM_CLASSES                    10\n",
      "POOL_SIZE                      7\n",
      "POST_NMS_ROIS_INFERENCE        1000\n",
      "POST_NMS_ROIS_TRAINING         2000\n",
      "PRE_NMS_LIMIT                  6000\n",
      "ROI_POSITIVE_RATIO             0.33\n",
      "RPN_ANCHOR_RATIOS              [0.5, 1, 2]\n",
      "RPN_ANCHOR_SCALES              (32, 64, 128, 256, 512)\n",
      "RPN_ANCHOR_STRIDE              1\n",
      "RPN_BBOX_STD_DEV               [0.1 0.1 0.2 0.2]\n",
      "RPN_NMS_THRESHOLD              0.7\n",
      "RPN_TRAIN_ANCHORS_PER_IMAGE    256\n",
      "STEPS_PER_EPOCH                100\n",
      "TOP_DOWN_PYRAMID_SIZE          256\n",
      "TRAIN_BN                       False\n",
      "TRAIN_ROIS_PER_IMAGE           200\n",
      "USE_MINI_MASK                  True\n",
      "USE_RPN_ROIS                   True\n",
      "VALIDATION_STEPS               50\n",
      "WEIGHT_DECAY                   0.0001\n",
      "\n",
      "\n"
     ]
    }
   ],
   "source": [
    "# Override the training configurations with a few\n",
    "# changes for inferencing.\n",
    "class InferenceConfig(config.__class__):\n",
    "    # Run detection on one image at a time\n",
    "    GPU_COUNT = 1\n",
    "    IMAGES_PER_GPU = 1\n",
    "\n",
    "config = InferenceConfig()\n",
    "config.display()"
   ]
  },
  {
   "cell_type": "markdown",
   "metadata": {},
   "source": [
    "## Notebook Preferences"
   ]
  },
  {
   "cell_type": "code",
   "execution_count": 4,
   "metadata": {},
   "outputs": [],
   "source": [
    "# Device to load the neural network on.\n",
    "# Useful if you're training a model on the same \n",
    "# machine, in which case use CPU and leave the\n",
    "# GPU for training.\n",
    "DEVICE = \"/cpu:0\"  # /cpu:0 or /gpu:0\n",
    "\n",
    "# Inspect the model in training or inference modes\n",
    "# values: 'inference' or 'training'\n",
    "# TODO: code for 'training' test mode not ready yet\n",
    "TEST_MODE = \"inference\""
   ]
  },
  {
   "cell_type": "code",
   "execution_count": 5,
   "metadata": {},
   "outputs": [],
   "source": [
    "def get_ax(rows=1, cols=1, size=16):\n",
    "    \"\"\"Return a Matplotlib Axes array to be used in\n",
    "    all visualizations in the notebook. Provide a\n",
    "    central point to control graph sizes.\n",
    "    \n",
    "    Adjust the size attribute to control how big to render images\n",
    "    \"\"\"\n",
    "    _, ax = plt.subplots(rows, cols, figsize=(size*cols, size*rows))\n",
    "    return ax"
   ]
  },
  {
   "cell_type": "markdown",
   "metadata": {},
   "source": [
    "## Load Validation Dataset"
   ]
  },
  {
   "cell_type": "code",
   "execution_count": 6,
   "metadata": {},
   "outputs": [
    {
     "name": "stdout",
     "output_type": "stream",
     "text": [
      "/root/japan_roof_dataset_2000_solarpanel/val/json/[0,11](135.432096E,34.828154N)_center_(135.431664E,34.828506N)min_(135.43252800000002E,34.827802N)_max_zoom_20_size_640x640.json /root/japan_roof_dataset_2000_solarpanel/val/image/[0,11](135.432096E,34.828154N)_center_(135.431664E,34.828506N)min_(135.43252800000002E,34.827802N)_max_zoom_20_size_640x640.png\n",
      "/root/japan_roof_dataset_2000_solarpanel/val/json/[1,4](135.514130E,34.581710N)_center_(135.513698E,34.582062N)min_(135.514562E,34.581358N)_max_zoom_20_size_640x640.json /root/japan_roof_dataset_2000_solarpanel/val/image/[1,4](135.514130E,34.581710N)_center_(135.513698E,34.582062N)min_(135.514562E,34.581358N)_max_zoom_20_size_640x640.png\n",
      "/root/japan_roof_dataset_2000_solarpanel/val/json/[0,4](135.426496E,34.828154N)_center_(135.426064E,34.828506N)min_(135.426928E,34.827802N)_max_zoom_20_size_640x640.json /root/japan_roof_dataset_2000_solarpanel/val/image/[0,4](135.426496E,34.828154N)_center_(135.426064E,34.828506N)min_(135.426928E,34.827802N)_max_zoom_20_size_640x640.png\n",
      "/root/japan_roof_dataset_2000_solarpanel/val/json/[0,2](135.512530E,34.582310N)_center_(135.512098E,34.582662N)min_(135.51296200000002E,34.581958N)_max_zoom_20_size_640x640.json /root/japan_roof_dataset_2000_solarpanel/val/image/[0,2](135.512530E,34.582310N)_center_(135.512098E,34.582662N)min_(135.51296200000002E,34.581958N)_max_zoom_20_size_640x640.png\n",
      "/root/japan_roof_dataset_2000_solarpanel/val/json/[0,1](135.424096E,34.828154N)_center_(135.423664E,34.828506N)min_(135.424528E,34.827802N)_max_zoom_20_size_640x640.json /root/japan_roof_dataset_2000_solarpanel/val/image/[0,1](135.424096E,34.828154N)_center_(135.423664E,34.828506N)min_(135.424528E,34.827802N)_max_zoom_20_size_640x640.png\n",
      "/root/japan_roof_dataset_2000_solarpanel/val/json/[1,4](135.426496E,34.827554N)_center_(135.426064E,34.827906N)min_(135.426928E,34.827202N)_max_zoom_20_size_640x640.json /root/japan_roof_dataset_2000_solarpanel/val/image/[1,4](135.426496E,34.827554N)_center_(135.426064E,34.827906N)min_(135.426928E,34.827202N)_max_zoom_20_size_640x640.png\n",
      "/root/japan_roof_dataset_2000_solarpanel/val/json/[0,14](136.645988E,36.556610N)_center_(136.645556E,36.556962N)min_(136.64642E,36.556258N)_max_zoom_20_size_640x640.json /root/japan_roof_dataset_2000_solarpanel/val/image/[0,14](136.645988E,36.556610N)_center_(136.645556E,36.556962N)min_(136.64642E,36.556258N)_max_zoom_20_size_640x640.png\n",
      "/root/japan_roof_dataset_2000_solarpanel/val/json/[0,14](135.566562E,34.640033N)_center_(135.56613000000002E,34.640385N)min_(135.56699400000002E,34.639681N)_max_zoom_20_size_640x640.json /root/japan_roof_dataset_2000_solarpanel/val/image/[0,14](135.566562E,34.640033N)_center_(135.56613000000002E,34.640385N)min_(135.56699400000002E,34.639681N)_max_zoom_20_size_640x640.png\n",
      "/root/japan_roof_dataset_2000_solarpanel/val/json/[0,4](135.558562E,34.640033N)_center_(135.55813E,34.640385N)min_(135.558994E,34.639681N)_max_zoom_20_size_640x640.json /root/japan_roof_dataset_2000_solarpanel/val/image/[0,4](135.558562E,34.640033N)_center_(135.55813E,34.640385N)min_(135.558994E,34.639681N)_max_zoom_20_size_640x640.png\n",
      "/root/japan_roof_dataset_2000_solarpanel/val/json/[0,12](135.520530E,34.582310N)_center_(135.52009800000002E,34.582662N)min_(135.52096200000003E,34.581958N)_max_zoom_20_size_640x640.json /root/japan_roof_dataset_2000_solarpanel/val/image/[0,12](135.520530E,34.582310N)_center_(135.52009800000002E,34.582662N)min_(135.52096200000003E,34.581958N)_max_zoom_20_size_640x640.png\n",
      "/root/japan_roof_dataset_2000_solarpanel/val/json/[0,1](135.556162E,34.640033N)_center_(135.55573E,34.640385N)min_(135.55659400000002E,34.639681N)_max_zoom_20_size_640x640.json /root/japan_roof_dataset_2000_solarpanel/val/image/[0,1](135.556162E,34.640033N)_center_(135.55573E,34.640385N)min_(135.55659400000002E,34.639681N)_max_zoom_20_size_640x640.png\n",
      "/root/japan_roof_dataset_2000_solarpanel/val/json/[1,2](135.424896E,34.827554N)_center_(135.424464E,34.827906N)min_(135.425328E,34.827202N)_max_zoom_20_size_640x640.json /root/japan_roof_dataset_2000_solarpanel/val/image/[1,2](135.424896E,34.827554N)_center_(135.424464E,34.827906N)min_(135.425328E,34.827202N)_max_zoom_20_size_640x640.png\n",
      "/root/japan_roof_dataset_2000_solarpanel/val/json/[0,13](135.433696E,34.828154N)_center_(135.433264E,34.828506N)min_(135.43412800000002E,34.827802N)_max_zoom_20_size_640x640.json /root/japan_roof_dataset_2000_solarpanel/val/image/[0,13](135.433696E,34.828154N)_center_(135.433264E,34.828506N)min_(135.43412800000002E,34.827802N)_max_zoom_20_size_640x640.png\n",
      "/root/japan_roof_dataset_2000_solarpanel/val/json/[0,5](135.514930E,34.582310N)_center_(135.514498E,34.582662N)min_(135.515362E,34.581958N)_max_zoom_20_size_640x640.json /root/japan_roof_dataset_2000_solarpanel/val/image/[0,5](135.514930E,34.582310N)_center_(135.514498E,34.582662N)min_(135.515362E,34.581958N)_max_zoom_20_size_640x640.png\n",
      "/root/japan_roof_dataset_2000_solarpanel/val/json/[0,9](135.562562E,34.640033N)_center_(135.56213000000002E,34.640385N)min_(135.56299400000003E,34.639681N)_max_zoom_20_size_640x640.json /root/japan_roof_dataset_2000_solarpanel/val/image/[0,9](135.562562E,34.640033N)_center_(135.56213000000002E,34.640385N)min_(135.56299400000003E,34.639681N)_max_zoom_20_size_640x640.png\n",
      "/root/japan_roof_dataset_2000_solarpanel/val/json/[1,2](135.512530E,34.581710N)_center_(135.512098E,34.582062N)min_(135.51296200000002E,34.581358N)_max_zoom_20_size_640x640.json /root/japan_roof_dataset_2000_solarpanel/val/image/[1,2](135.512530E,34.581710N)_center_(135.512098E,34.582062N)min_(135.51296200000002E,34.581358N)_max_zoom_20_size_640x640.png\n",
      "/root/japan_roof_dataset_2000_solarpanel/val/json/[1,1](135.424096E,34.827554N)_center_(135.423664E,34.827906N)min_(135.424528E,34.827202N)_max_zoom_20_size_640x640.json /root/japan_roof_dataset_2000_solarpanel/val/image/[1,1](135.424096E,34.827554N)_center_(135.423664E,34.827906N)min_(135.424528E,34.827202N)_max_zoom_20_size_640x640.png\n",
      "/root/japan_roof_dataset_2000_solarpanel/val/json/[0,1](136.635588E,36.556610N)_center_(136.63515600000002E,36.556962N)min_(136.63602000000003E,36.556258N)_max_zoom_20_size_640x640.json /root/japan_roof_dataset_2000_solarpanel/val/image/[0,1](136.635588E,36.556610N)_center_(136.63515600000002E,36.556962N)min_(136.63602000000003E,36.556258N)_max_zoom_20_size_640x640.png\n",
      "/root/japan_roof_dataset_2000_solarpanel/val/json/[0,0](135.555362E,34.640033N)_center_(135.55493E,34.640385N)min_(135.55579400000002E,34.639681N)_max_zoom_20_size_640x640.json /root/japan_roof_dataset_2000_solarpanel/val/image/[0,0](135.555362E,34.640033N)_center_(135.55493E,34.640385N)min_(135.55579400000002E,34.639681N)_max_zoom_20_size_640x640.png\n",
      "/root/japan_roof_dataset_2000_solarpanel/val/json/[0,8](136.641188E,36.556610N)_center_(136.640756E,36.556962N)min_(136.64162000000002E,36.556258N)_max_zoom_20_size_640x640.json /root/japan_roof_dataset_2000_solarpanel/val/image/[0,8](136.641188E,36.556610N)_center_(136.640756E,36.556962N)min_(136.64162000000002E,36.556258N)_max_zoom_20_size_640x640.png\n",
      "/root/japan_roof_dataset_2000_solarpanel/val/json/[0,5](135.427296E,34.828154N)_center_(135.42686400000002E,34.828506N)min_(135.42772800000003E,34.827802N)_max_zoom_20_size_640x640.json /root/japan_roof_dataset_2000_solarpanel/val/image/[0,5](135.427296E,34.828154N)_center_(135.42686400000002E,34.828506N)min_(135.42772800000003E,34.827802N)_max_zoom_20_size_640x640.png\n",
      "/root/japan_roof_dataset_2000_solarpanel/val/json/[1,0](135.415367E,34.788754N)_center_(135.414935E,34.789106N)min_(135.41579900000002E,34.788402N)_max_zoom_20_size_640x640.json /root/japan_roof_dataset_2000_solarpanel/val/image/[1,0](135.415367E,34.788754N)_center_(135.414935E,34.789106N)min_(135.41579900000002E,34.788402N)_max_zoom_20_size_640x640.png\n",
      "/root/japan_roof_dataset_2000_solarpanel/val/json/[1,0](135.423296E,34.827554N)_center_(135.422864E,34.827906N)min_(135.423728E,34.827202N)_max_zoom_20_size_640x640.json /root/japan_roof_dataset_2000_solarpanel/val/image/[1,0](135.423296E,34.827554N)_center_(135.422864E,34.827906N)min_(135.423728E,34.827202N)_max_zoom_20_size_640x640.png\n",
      "/root/japan_roof_dataset_2000_solarpanel/val/json/[0,8](135.429696E,34.828154N)_center_(135.42926400000002E,34.828506N)min_(135.43012800000002E,34.827802N)_max_zoom_20_size_640x640.json /root/japan_roof_dataset_2000_solarpanel/val/image/[0,8](135.429696E,34.828154N)_center_(135.42926400000002E,34.828506N)min_(135.43012800000002E,34.827802N)_max_zoom_20_size_640x640.png\n",
      "/root/japan_roof_dataset_2000_solarpanel/val/json/[0,6](136.639588E,36.556610N)_center_(136.639156E,36.556962N)min_(136.64002000000002E,36.556258N)_max_zoom_20_size_640x640.json /root/japan_roof_dataset_2000_solarpanel/val/image/[0,6](136.639588E,36.556610N)_center_(136.639156E,36.556962N)min_(136.64002000000002E,36.556258N)_max_zoom_20_size_640x640.png\n",
      "/root/japan_roof_dataset_2000_solarpanel/val/json/[1,1](135.416167E,34.788754N)_center_(135.415735E,34.789106N)min_(135.41659900000002E,34.788402N)_max_zoom_20_size_640x640.json /root/japan_roof_dataset_2000_solarpanel/val/image/[1,1](135.416167E,34.788754N)_center_(135.415735E,34.789106N)min_(135.41659900000002E,34.788402N)_max_zoom_20_size_640x640.png\n",
      "/root/japan_roof_dataset_2000_solarpanel/val/json/[0,2](135.424896E,34.828154N)_center_(135.424464E,34.828506N)min_(135.425328E,34.827802N)_max_zoom_20_size_640x640.json /root/japan_roof_dataset_2000_solarpanel/val/image/[0,2](135.424896E,34.828154N)_center_(135.424464E,34.828506N)min_(135.425328E,34.827802N)_max_zoom_20_size_640x640.png\n",
      "/root/japan_roof_dataset_2000_solarpanel/val/json/[0,3](136.637188E,36.556610N)_center_(136.63675600000002E,36.556962N)min_(136.63762000000003E,36.556258N)_max_zoom_20_size_640x640.json /root/japan_roof_dataset_2000_solarpanel/val/image/[0,3](136.637188E,36.556610N)_center_(136.63675600000002E,36.556962N)min_(136.63762000000003E,36.556258N)_max_zoom_20_size_640x640.png\n",
      "/root/japan_roof_dataset_2000_solarpanel/val/json/[1,2](135.556962E,34.639433N)_center_(135.55653E,34.639784999999996N)min_(135.55739400000002E,34.639081N)_max_zoom_20_size_640x640.json /root/japan_roof_dataset_2000_solarpanel/val/image/[1,2](135.556962E,34.639433N)_center_(135.55653E,34.639784999999996N)min_(135.55739400000002E,34.639081N)_max_zoom_20_size_640x640.png\n",
      "/root/japan_roof_dataset_2000_solarpanel/val/json/[0,8](135.517330E,34.582310N)_center_(135.516898E,34.582662N)min_(135.517762E,34.581958N)_max_zoom_20_size_640x640.json /root/japan_roof_dataset_2000_solarpanel/val/image/[0,8](135.517330E,34.582310N)_center_(135.516898E,34.582662N)min_(135.517762E,34.581958N)_max_zoom_20_size_640x640.png\n",
      "/root/japan_roof_dataset_2000_solarpanel/val/json/[0,6](135.420167E,34.789354N)_center_(135.419735E,34.789706N)min_(135.420599E,34.789002N)_max_zoom_20_size_640x640.json /root/japan_roof_dataset_2000_solarpanel/val/image/[0,6](135.420167E,34.789354N)_center_(135.419735E,34.789706N)min_(135.420599E,34.789002N)_max_zoom_20_size_640x640.png\n"
     ]
    },
    {
     "name": "stdout",
     "output_type": "stream",
     "text": [
      "/root/japan_roof_dataset_2000_solarpanel/val/json/[0,3](135.425696E,34.828154N)_center_(135.425264E,34.828506N)min_(135.426128E,34.827802N)_max_zoom_20_size_640x640.json /root/japan_roof_dataset_2000_solarpanel/val/image/[0,3](135.425696E,34.828154N)_center_(135.425264E,34.828506N)min_(135.426128E,34.827802N)_max_zoom_20_size_640x640.png\n",
      "/root/japan_roof_dataset_2000_solarpanel/val/json/[0,10](135.563362E,34.640033N)_center_(135.56293000000002E,34.640385N)min_(135.56379400000003E,34.639681N)_max_zoom_20_size_640x640.json /root/japan_roof_dataset_2000_solarpanel/val/image/[0,10](135.563362E,34.640033N)_center_(135.56293000000002E,34.640385N)min_(135.56379400000003E,34.639681N)_max_zoom_20_size_640x640.png\n",
      "/root/japan_roof_dataset_2000_solarpanel/val/json/[0,9](135.430496E,34.828154N)_center_(135.43006400000002E,34.828506N)min_(135.43092800000002E,34.827802N)_max_zoom_20_size_640x640.json /root/japan_roof_dataset_2000_solarpanel/val/image/[0,9](135.430496E,34.828154N)_center_(135.43006400000002E,34.828506N)min_(135.43092800000002E,34.827802N)_max_zoom_20_size_640x640.png\n",
      "/root/japan_roof_dataset_2000_solarpanel/val/json/[0,12](135.432896E,34.828154N)_center_(135.432464E,34.828506N)min_(135.43332800000002E,34.827802N)_max_zoom_20_size_640x640.json /root/japan_roof_dataset_2000_solarpanel/val/image/[0,12](135.432896E,34.828154N)_center_(135.432464E,34.828506N)min_(135.43332800000002E,34.827802N)_max_zoom_20_size_640x640.png\n",
      "/root/japan_roof_dataset_2000_solarpanel/val/json/[1,0](136.634788E,36.556010N)_center_(136.634356E,36.556362N)min_(136.63522E,36.555658N)_max_zoom_20_size_640x640.json /root/japan_roof_dataset_2000_solarpanel/val/image/[1,0](136.634788E,36.556010N)_center_(136.634356E,36.556362N)min_(136.63522E,36.555658N)_max_zoom_20_size_640x640.png\n",
      "/root/japan_roof_dataset_2000_solarpanel/val/json/[0,10](135.431296E,34.828154N)_center_(135.430864E,34.828506N)min_(135.43172800000002E,34.827802N)_max_zoom_20_size_640x640.json /root/japan_roof_dataset_2000_solarpanel/val/image/[0,10](135.431296E,34.828154N)_center_(135.430864E,34.828506N)min_(135.43172800000002E,34.827802N)_max_zoom_20_size_640x640.png\n",
      "/root/japan_roof_dataset_2000_solarpanel/val/json/[1,3](135.513330E,34.581710N)_center_(135.512898E,34.582062N)min_(135.513762E,34.581358N)_max_zoom_20_size_640x640.json /root/japan_roof_dataset_2000_solarpanel/val/image/[1,3](135.513330E,34.581710N)_center_(135.512898E,34.582062N)min_(135.513762E,34.581358N)_max_zoom_20_size_640x640.png\n",
      "/root/japan_roof_dataset_2000_solarpanel/val/json/[0,11](135.564162E,34.640033N)_center_(135.56373000000002E,34.640385N)min_(135.56459400000003E,34.639681N)_max_zoom_20_size_640x640.json /root/japan_roof_dataset_2000_solarpanel/val/image/[0,11](135.564162E,34.640033N)_center_(135.56373000000002E,34.640385N)min_(135.56459400000003E,34.639681N)_max_zoom_20_size_640x640.png\n",
      "/root/japan_roof_dataset_2000_solarpanel/val/json/[0,1](135.416167E,34.789354N)_center_(135.415735E,34.789706N)min_(135.41659900000002E,34.789002N)_max_zoom_20_size_640x640.json /root/japan_roof_dataset_2000_solarpanel/val/image/[0,1](135.416167E,34.789354N)_center_(135.415735E,34.789706N)min_(135.41659900000002E,34.789002N)_max_zoom_20_size_640x640.png\n",
      "/root/japan_roof_dataset_2000_solarpanel/val/json/[0,10](136.642788E,36.556610N)_center_(136.642356E,36.556962N)min_(136.64322E,36.556258N)_max_zoom_20_size_640x640.json /root/japan_roof_dataset_2000_solarpanel/val/image/[0,10](136.642788E,36.556610N)_center_(136.642356E,36.556962N)min_(136.64322E,36.556258N)_max_zoom_20_size_640x640.png\n",
      "/root/japan_roof_dataset_2000_solarpanel/val/json/[1,0](135.510930E,34.581710N)_center_(135.510498E,34.582062N)min_(135.51136200000002E,34.581358N)_max_zoom_20_size_640x640.json /root/japan_roof_dataset_2000_solarpanel/val/image/[1,0](135.510930E,34.581710N)_center_(135.510498E,34.582062N)min_(135.51136200000002E,34.581358N)_max_zoom_20_size_640x640.png\n",
      "/root/japan_roof_dataset_2000_solarpanel/val/json/[0,7](135.516530E,34.582310N)_center_(135.516098E,34.582662N)min_(135.516962E,34.581958N)_max_zoom_20_size_640x640.json /root/japan_roof_dataset_2000_solarpanel/val/image/[0,7](135.516530E,34.582310N)_center_(135.516098E,34.582662N)min_(135.516962E,34.581958N)_max_zoom_20_size_640x640.png\n",
      "/root/japan_roof_dataset_2000_solarpanel/val/json/[0,6](135.560162E,34.640033N)_center_(135.55973E,34.640385N)min_(135.560594E,34.639681N)_max_zoom_20_size_640x640.json /root/japan_roof_dataset_2000_solarpanel/val/image/[0,6](135.560162E,34.640033N)_center_(135.55973E,34.640385N)min_(135.560594E,34.639681N)_max_zoom_20_size_640x640.png\n",
      "/root/japan_roof_dataset_2000_solarpanel/val/json/[1,3](135.557762E,34.639433N)_center_(135.55733E,34.639784999999996N)min_(135.55819400000001E,34.639081N)_max_zoom_20_size_640x640.json /root/japan_roof_dataset_2000_solarpanel/val/image/[1,3](135.557762E,34.639433N)_center_(135.55733E,34.639784999999996N)min_(135.55819400000001E,34.639081N)_max_zoom_20_size_640x640.png\n",
      "/root/japan_roof_dataset_2000_solarpanel/val/json/[0,8](135.421767E,34.789354N)_center_(135.421335E,34.789706N)min_(135.422199E,34.789002N)_max_zoom_20_size_640x640.json /root/japan_roof_dataset_2000_solarpanel/val/image/[0,8](135.421767E,34.789354N)_center_(135.421335E,34.789706N)min_(135.422199E,34.789002N)_max_zoom_20_size_640x640.png\n",
      "/root/japan_roof_dataset_2000_solarpanel/val/json/[0,14](135.426567E,34.789354N)_center_(135.42613500000002E,34.789706N)min_(135.42699900000002E,34.789002N)_max_zoom_20_size_640x640.json /root/japan_roof_dataset_2000_solarpanel/val/image/[0,14](135.426567E,34.789354N)_center_(135.42613500000002E,34.789706N)min_(135.42699900000002E,34.789002N)_max_zoom_20_size_640x640.png\n",
      "/root/japan_roof_dataset_2000_solarpanel/val/json/[0,4](136.637988E,36.556610N)_center_(136.63755600000002E,36.556962N)min_(136.63842000000002E,36.556258N)_max_zoom_20_size_640x640.json /root/japan_roof_dataset_2000_solarpanel/val/image/[0,4](136.637988E,36.556610N)_center_(136.63755600000002E,36.556962N)min_(136.63842000000002E,36.556258N)_max_zoom_20_size_640x640.png\n",
      "/root/japan_roof_dataset_2000_solarpanel/val/json/[0,10](135.518930E,34.582310N)_center_(135.51849800000002E,34.582662N)min_(135.51936200000003E,34.581958N)_max_zoom_20_size_640x640.json /root/japan_roof_dataset_2000_solarpanel/val/image/[0,10](135.518930E,34.582310N)_center_(135.51849800000002E,34.582662N)min_(135.51936200000003E,34.581958N)_max_zoom_20_size_640x640.png\n",
      "/root/japan_roof_dataset_2000_solarpanel/val/json/[0,3](135.513330E,34.582310N)_center_(135.512898E,34.582662N)min_(135.513762E,34.581958N)_max_zoom_20_size_640x640.json /root/japan_roof_dataset_2000_solarpanel/val/image/[0,3](135.513330E,34.582310N)_center_(135.512898E,34.582662N)min_(135.513762E,34.581958N)_max_zoom_20_size_640x640.png\n",
      "/root/japan_roof_dataset_2000_solarpanel/val/json/[0,6](135.515730E,34.582310N)_center_(135.515298E,34.582662N)min_(135.516162E,34.581958N)_max_zoom_20_size_640x640.json /root/japan_roof_dataset_2000_solarpanel/val/image/[0,6](135.515730E,34.582310N)_center_(135.515298E,34.582662N)min_(135.516162E,34.581958N)_max_zoom_20_size_640x640.png\n",
      "/root/japan_roof_dataset_2000_solarpanel/val/json/[1,1](135.556162E,34.639433N)_center_(135.55573E,34.639784999999996N)min_(135.55659400000002E,34.639081N)_max_zoom_20_size_640x640.json /root/japan_roof_dataset_2000_solarpanel/val/image/[1,1](135.556162E,34.639433N)_center_(135.55573E,34.639784999999996N)min_(135.55659400000002E,34.639081N)_max_zoom_20_size_640x640.png\n",
      "/root/japan_roof_dataset_2000_solarpanel/val/json/[0,12](135.564962E,34.640033N)_center_(135.56453000000002E,34.640385N)min_(135.56539400000003E,34.639681N)_max_zoom_20_size_640x640.json /root/japan_roof_dataset_2000_solarpanel/val/image/[0,12](135.564962E,34.640033N)_center_(135.56453000000002E,34.640385N)min_(135.56539400000003E,34.639681N)_max_zoom_20_size_640x640.png\n",
      "/root/japan_roof_dataset_2000_solarpanel/val/json/[0,9](136.641988E,36.556610N)_center_(136.641556E,36.556962N)min_(136.64242000000002E,36.556258N)_max_zoom_20_size_640x640.json /root/japan_roof_dataset_2000_solarpanel/val/image/[0,9](136.641988E,36.556610N)_center_(136.641556E,36.556962N)min_(136.64242000000002E,36.556258N)_max_zoom_20_size_640x640.png\n"
     ]
    },
    {
     "name": "stdout",
     "output_type": "stream",
     "text": [
      "/root/japan_roof_dataset_2000_solarpanel/val/json/[0,9](135.422567E,34.789354N)_center_(135.422135E,34.789706N)min_(135.422999E,34.789002N)_max_zoom_20_size_640x640.json /root/japan_roof_dataset_2000_solarpanel/val/image/[0,9](135.422567E,34.789354N)_center_(135.422135E,34.789706N)min_(135.422999E,34.789002N)_max_zoom_20_size_640x640.png\n",
      "/root/japan_roof_dataset_2000_solarpanel/val/json/[0,0](135.510930E,34.582310N)_center_(135.510498E,34.582662N)min_(135.51136200000002E,34.581958N)_max_zoom_20_size_640x640.json /root/japan_roof_dataset_2000_solarpanel/val/image/[0,0](135.510930E,34.582310N)_center_(135.510498E,34.582662N)min_(135.51136200000002E,34.581958N)_max_zoom_20_size_640x640.png\n",
      "/root/japan_roof_dataset_2000_solarpanel/val/json/[0,3](135.557762E,34.640033N)_center_(135.55733E,34.640385N)min_(135.55819400000001E,34.639681N)_max_zoom_20_size_640x640.json /root/japan_roof_dataset_2000_solarpanel/val/image/[0,3](135.557762E,34.640033N)_center_(135.55733E,34.640385N)min_(135.55819400000001E,34.639681N)_max_zoom_20_size_640x640.png\n",
      "/root/japan_roof_dataset_2000_solarpanel/val/json/[0,7](135.420967E,34.789354N)_center_(135.420535E,34.789706N)min_(135.421399E,34.789002N)_max_zoom_20_size_640x640.json /root/japan_roof_dataset_2000_solarpanel/val/image/[0,7](135.420967E,34.789354N)_center_(135.420535E,34.789706N)min_(135.421399E,34.789002N)_max_zoom_20_size_640x640.png\n",
      "/root/japan_roof_dataset_2000_solarpanel/val/json/[1,0](135.555362E,34.639433N)_center_(135.55493E,34.639784999999996N)min_(135.55579400000002E,34.639081N)_max_zoom_20_size_640x640.json /root/japan_roof_dataset_2000_solarpanel/val/image/[1,0](135.555362E,34.639433N)_center_(135.55493E,34.639784999999996N)min_(135.55579400000002E,34.639081N)_max_zoom_20_size_640x640.png\n",
      "/root/japan_roof_dataset_2000_solarpanel/val/json/[0,1](135.511730E,34.582310N)_center_(135.511298E,34.582662N)min_(135.51216200000002E,34.581958N)_max_zoom_20_size_640x640.json /root/japan_roof_dataset_2000_solarpanel/val/image/[0,1](135.511730E,34.582310N)_center_(135.511298E,34.582662N)min_(135.51216200000002E,34.581958N)_max_zoom_20_size_640x640.png\n",
      "/root/japan_roof_dataset_2000_solarpanel/val/json/[1,3](136.637188E,36.556010N)_center_(136.63675600000002E,36.556362N)min_(136.63762000000003E,36.555658N)_max_zoom_20_size_640x640.json /root/japan_roof_dataset_2000_solarpanel/val/image/[1,3](136.637188E,36.556010N)_center_(136.63675600000002E,36.556362N)min_(136.63762000000003E,36.555658N)_max_zoom_20_size_640x640.png\n",
      "/root/japan_roof_dataset_2000_solarpanel/val/json/[0,12](135.424967E,34.789354N)_center_(135.42453500000002E,34.789706N)min_(135.42539900000003E,34.789002N)_max_zoom_20_size_640x640.json /root/japan_roof_dataset_2000_solarpanel/val/image/[0,12](135.424967E,34.789354N)_center_(135.42453500000002E,34.789706N)min_(135.42539900000003E,34.789002N)_max_zoom_20_size_640x640.png\n",
      "/root/japan_roof_dataset_2000_solarpanel/val/json/[0,8](135.561762E,34.640033N)_center_(135.56133E,34.640385N)min_(135.562194E,34.639681N)_max_zoom_20_size_640x640.json /root/japan_roof_dataset_2000_solarpanel/val/image/[0,8](135.561762E,34.640033N)_center_(135.56133E,34.640385N)min_(135.562194E,34.639681N)_max_zoom_20_size_640x640.png\n",
      "/root/japan_roof_dataset_2000_solarpanel/val/json/[1,4](135.558562E,34.639433N)_center_(135.55813E,34.639784999999996N)min_(135.558994E,34.639081N)_max_zoom_20_size_640x640.json /root/japan_roof_dataset_2000_solarpanel/val/image/[1,4](135.558562E,34.639433N)_center_(135.55813E,34.639784999999996N)min_(135.558994E,34.639081N)_max_zoom_20_size_640x640.png\n",
      "/root/japan_roof_dataset_2000_solarpanel/val/json/[1,3](135.417767E,34.788754N)_center_(135.417335E,34.789106N)min_(135.41819900000002E,34.788402N)_max_zoom_20_size_640x640.json /root/japan_roof_dataset_2000_solarpanel/val/image/[1,3](135.417767E,34.788754N)_center_(135.417335E,34.789106N)min_(135.41819900000002E,34.788402N)_max_zoom_20_size_640x640.png\n",
      "/root/japan_roof_dataset_2000_solarpanel/val/json/[1,2](135.416967E,34.788754N)_center_(135.416535E,34.789106N)min_(135.41739900000002E,34.788402N)_max_zoom_20_size_640x640.json /root/japan_roof_dataset_2000_solarpanel/val/image/[1,2](135.416967E,34.788754N)_center_(135.416535E,34.789106N)min_(135.41739900000002E,34.788402N)_max_zoom_20_size_640x640.png\n",
      "/root/japan_roof_dataset_2000_solarpanel/val/json/[1,4](135.418567E,34.788754N)_center_(135.418135E,34.789106N)min_(135.418999E,34.788402N)_max_zoom_20_size_640x640.json /root/japan_roof_dataset_2000_solarpanel/val/image/[1,4](135.418567E,34.788754N)_center_(135.418135E,34.789106N)min_(135.418999E,34.788402N)_max_zoom_20_size_640x640.png\n",
      "/root/japan_roof_dataset_2000_solarpanel/val/json/[0,13](135.425767E,34.789354N)_center_(135.42533500000002E,34.789706N)min_(135.42619900000003E,34.789002N)_max_zoom_20_size_640x640.json /root/japan_roof_dataset_2000_solarpanel/val/image/[0,13](135.425767E,34.789354N)_center_(135.42533500000002E,34.789706N)min_(135.42619900000003E,34.789002N)_max_zoom_20_size_640x640.png\n",
      "/root/japan_roof_dataset_2000_solarpanel/val/json/[0,13](135.521330E,34.582310N)_center_(135.52089800000002E,34.582662N)min_(135.52176200000002E,34.581958N)_max_zoom_20_size_640x640.json /root/japan_roof_dataset_2000_solarpanel/val/image/[0,13](135.521330E,34.582310N)_center_(135.52089800000002E,34.582662N)min_(135.52176200000002E,34.581958N)_max_zoom_20_size_640x640.png\n",
      "/root/japan_roof_dataset_2000_solarpanel/val/json/[0,4](135.514130E,34.582310N)_center_(135.513698E,34.582662N)min_(135.514562E,34.581958N)_max_zoom_20_size_640x640.json /root/japan_roof_dataset_2000_solarpanel/val/image/[0,4](135.514130E,34.582310N)_center_(135.513698E,34.582662N)min_(135.514562E,34.581958N)_max_zoom_20_size_640x640.png\n",
      "/root/japan_roof_dataset_2000_solarpanel/val/json/[1,2](136.636388E,36.556010N)_center_(136.63595600000002E,36.556362N)min_(136.63682000000003E,36.555658N)_max_zoom_20_size_640x640.json /root/japan_roof_dataset_2000_solarpanel/val/image/[1,2](136.636388E,36.556010N)_center_(136.63595600000002E,36.556362N)min_(136.63682000000003E,36.555658N)_max_zoom_20_size_640x640.png\n",
      "/root/japan_roof_dataset_2000_solarpanel/val/json/[0,14](135.434496E,34.828154N)_center_(135.434064E,34.828506N)min_(135.434928E,34.827802N)_max_zoom_20_size_640x640.json /root/japan_roof_dataset_2000_solarpanel/val/image/[0,14](135.434496E,34.828154N)_center_(135.434064E,34.828506N)min_(135.434928E,34.827802N)_max_zoom_20_size_640x640.png\n",
      "/root/japan_roof_dataset_2000_solarpanel/val/json/[0,11](135.519730E,34.582310N)_center_(135.51929800000002E,34.582662N)min_(135.52016200000003E,34.581958N)_max_zoom_20_size_640x640.json /root/japan_roof_dataset_2000_solarpanel/val/image/[0,11](135.519730E,34.582310N)_center_(135.51929800000002E,34.582662N)min_(135.52016200000003E,34.581958N)_max_zoom_20_size_640x640.png\n",
      "/root/japan_roof_dataset_2000_solarpanel/val/json/[0,14](135.522130E,34.582310N)_center_(135.52169800000001E,34.582662N)min_(135.52256200000002E,34.581958N)_max_zoom_20_size_640x640.json /root/japan_roof_dataset_2000_solarpanel/val/image/[0,14](135.522130E,34.582310N)_center_(135.52169800000001E,34.582662N)min_(135.52256200000002E,34.581958N)_max_zoom_20_size_640x640.png\n",
      "/root/japan_roof_dataset_2000_solarpanel/val/json/[0,5](135.419367E,34.789354N)_center_(135.418935E,34.789706N)min_(135.419799E,34.789002N)_max_zoom_20_size_640x640.json /root/japan_roof_dataset_2000_solarpanel/val/image/[0,5](135.419367E,34.789354N)_center_(135.418935E,34.789706N)min_(135.419799E,34.789002N)_max_zoom_20_size_640x640.png\n",
      "/root/japan_roof_dataset_2000_solarpanel/val/json/[0,6](135.428096E,34.828154N)_center_(135.42766400000002E,34.828506N)min_(135.42852800000003E,34.827802N)_max_zoom_20_size_640x640.json /root/japan_roof_dataset_2000_solarpanel/val/image/[0,6](135.428096E,34.828154N)_center_(135.42766400000002E,34.828506N)min_(135.42852800000003E,34.827802N)_max_zoom_20_size_640x640.png\n",
      "/root/japan_roof_dataset_2000_solarpanel/val/json/[0,5](135.559362E,34.640033N)_center_(135.55893E,34.640385N)min_(135.559794E,34.639681N)_max_zoom_20_size_640x640.json /root/japan_roof_dataset_2000_solarpanel/val/image/[0,5](135.559362E,34.640033N)_center_(135.55893E,34.640385N)min_(135.559794E,34.639681N)_max_zoom_20_size_640x640.png\n",
      "/root/japan_roof_dataset_2000_solarpanel/val/json/[0,4](135.418567E,34.789354N)_center_(135.418135E,34.789706N)min_(135.418999E,34.789002N)_max_zoom_20_size_640x640.json /root/japan_roof_dataset_2000_solarpanel/val/image/[0,4](135.418567E,34.789354N)_center_(135.418135E,34.789706N)min_(135.418999E,34.789002N)_max_zoom_20_size_640x640.png\n",
      "/root/japan_roof_dataset_2000_solarpanel/val/json/[1,3](135.425696E,34.827554N)_center_(135.425264E,34.827906N)min_(135.426128E,34.827202N)_max_zoom_20_size_640x640.json /root/japan_roof_dataset_2000_solarpanel/val/image/[1,3](135.425696E,34.827554N)_center_(135.425264E,34.827906N)min_(135.426128E,34.827202N)_max_zoom_20_size_640x640.png\n",
      "/root/japan_roof_dataset_2000_solarpanel/val/json/[0,7](135.428896E,34.828154N)_center_(135.42846400000002E,34.828506N)min_(135.42932800000003E,34.827802N)_max_zoom_20_size_640x640.json /root/japan_roof_dataset_2000_solarpanel/val/image/[0,7](135.428896E,34.828154N)_center_(135.42846400000002E,34.828506N)min_(135.42932800000003E,34.827802N)_max_zoom_20_size_640x640.png\n",
      "/root/japan_roof_dataset_2000_solarpanel/val/json/[0,11](136.643588E,36.556610N)_center_(136.643156E,36.556962N)min_(136.64402E,36.556258N)_max_zoom_20_size_640x640.json /root/japan_roof_dataset_2000_solarpanel/val/image/[0,11](136.643588E,36.556610N)_center_(136.643156E,36.556962N)min_(136.64402E,36.556258N)_max_zoom_20_size_640x640.png\n",
      "/root/japan_roof_dataset_2000_solarpanel/val/json/[0,2](135.416967E,34.789354N)_center_(135.416535E,34.789706N)min_(135.41739900000002E,34.789002N)_max_zoom_20_size_640x640.json /root/japan_roof_dataset_2000_solarpanel/val/image/[0,2](135.416967E,34.789354N)_center_(135.416535E,34.789706N)min_(135.41739900000002E,34.789002N)_max_zoom_20_size_640x640.png\n",
      "/root/japan_roof_dataset_2000_solarpanel/val/json/[0,7](136.640388E,36.556610N)_center_(136.639956E,36.556962N)min_(136.64082000000002E,36.556258N)_max_zoom_20_size_640x640.json /root/japan_roof_dataset_2000_solarpanel/val/image/[0,7](136.640388E,36.556610N)_center_(136.639956E,36.556962N)min_(136.64082000000002E,36.556258N)_max_zoom_20_size_640x640.png\n",
      "/root/japan_roof_dataset_2000_solarpanel/val/json/[0,10](135.423367E,34.789354N)_center_(135.42293500000002E,34.789706N)min_(135.42379900000003E,34.789002N)_max_zoom_20_size_640x640.json /root/japan_roof_dataset_2000_solarpanel/val/image/[0,10](135.423367E,34.789354N)_center_(135.42293500000002E,34.789706N)min_(135.42379900000003E,34.789002N)_max_zoom_20_size_640x640.png\n",
      "/root/japan_roof_dataset_2000_solarpanel/val/json/[1,4](136.637988E,36.556010N)_center_(136.63755600000002E,36.556362N)min_(136.63842000000002E,36.555658N)_max_zoom_20_size_640x640.json /root/japan_roof_dataset_2000_solarpanel/val/image/[1,4](136.637988E,36.556010N)_center_(136.63755600000002E,36.556362N)min_(136.63842000000002E,36.555658N)_max_zoom_20_size_640x640.png\n",
      "/root/japan_roof_dataset_2000_solarpanel/val/json/[0,7](135.560962E,34.640033N)_center_(135.56053E,34.640385N)min_(135.561394E,34.639681N)_max_zoom_20_size_640x640.json /root/japan_roof_dataset_2000_solarpanel/val/image/[0,7](135.560962E,34.640033N)_center_(135.56053E,34.640385N)min_(135.561394E,34.639681N)_max_zoom_20_size_640x640.png\n"
     ]
    },
    {
     "name": "stdout",
     "output_type": "stream",
     "text": [
      "/root/japan_roof_dataset_2000_solarpanel/val/json/[0,0](135.423296E,34.828154N)_center_(135.422864E,34.828506N)min_(135.423728E,34.827802N)_max_zoom_20_size_640x640.json /root/japan_roof_dataset_2000_solarpanel/val/image/[0,0](135.423296E,34.828154N)_center_(135.422864E,34.828506N)min_(135.423728E,34.827802N)_max_zoom_20_size_640x640.png\n",
      "/root/japan_roof_dataset_2000_solarpanel/val/json/[0,0](135.415367E,34.789354N)_center_(135.414935E,34.789706N)min_(135.41579900000002E,34.789002N)_max_zoom_20_size_640x640.json /root/japan_roof_dataset_2000_solarpanel/val/image/[0,0](135.415367E,34.789354N)_center_(135.414935E,34.789706N)min_(135.41579900000002E,34.789002N)_max_zoom_20_size_640x640.png\n",
      "/root/japan_roof_dataset_2000_solarpanel/val/json/[0,0](136.634788E,36.556610N)_center_(136.634356E,36.556962N)min_(136.63522E,36.556258N)_max_zoom_20_size_640x640.json /root/japan_roof_dataset_2000_solarpanel/val/image/[0,0](136.634788E,36.556610N)_center_(136.634356E,36.556962N)min_(136.63522E,36.556258N)_max_zoom_20_size_640x640.png\n",
      "/root/japan_roof_dataset_2000_solarpanel/val/json/[0,5](136.638788E,36.556610N)_center_(136.63835600000002E,36.556962N)min_(136.63922000000002E,36.556258N)_max_zoom_20_size_640x640.json /root/japan_roof_dataset_2000_solarpanel/val/image/[0,5](136.638788E,36.556610N)_center_(136.63835600000002E,36.556962N)min_(136.63922000000002E,36.556258N)_max_zoom_20_size_640x640.png\n",
      "/root/japan_roof_dataset_2000_solarpanel/val/json/[0,3](135.417767E,34.789354N)_center_(135.417335E,34.789706N)min_(135.41819900000002E,34.789002N)_max_zoom_20_size_640x640.json /root/japan_roof_dataset_2000_solarpanel/val/image/[0,3](135.417767E,34.789354N)_center_(135.417335E,34.789706N)min_(135.41819900000002E,34.789002N)_max_zoom_20_size_640x640.png\n",
      "/root/japan_roof_dataset_2000_solarpanel/val/json/[0,13](135.565762E,34.640033N)_center_(135.56533000000002E,34.640385N)min_(135.56619400000002E,34.639681N)_max_zoom_20_size_640x640.json /root/japan_roof_dataset_2000_solarpanel/val/image/[0,13](135.565762E,34.640033N)_center_(135.56533000000002E,34.640385N)min_(135.56619400000002E,34.639681N)_max_zoom_20_size_640x640.png\n",
      "/root/japan_roof_dataset_2000_solarpanel/val/json/[0,2](135.556962E,34.640033N)_center_(135.55653E,34.640385N)min_(135.55739400000002E,34.639681N)_max_zoom_20_size_640x640.json /root/japan_roof_dataset_2000_solarpanel/val/image/[0,2](135.556962E,34.640033N)_center_(135.55653E,34.640385N)min_(135.55739400000002E,34.639681N)_max_zoom_20_size_640x640.png\n",
      "/root/japan_roof_dataset_2000_solarpanel/val/json/[0,11](135.424167E,34.789354N)_center_(135.42373500000002E,34.789706N)min_(135.42459900000003E,34.789002N)_max_zoom_20_size_640x640.json /root/japan_roof_dataset_2000_solarpanel/val/image/[0,11](135.424167E,34.789354N)_center_(135.42373500000002E,34.789706N)min_(135.42459900000003E,34.789002N)_max_zoom_20_size_640x640.png\n",
      "/root/japan_roof_dataset_2000_solarpanel/val/json/[0,2](136.636388E,36.556610N)_center_(136.63595600000002E,36.556962N)min_(136.63682000000003E,36.556258N)_max_zoom_20_size_640x640.json /root/japan_roof_dataset_2000_solarpanel/val/image/[0,2](136.636388E,36.556610N)_center_(136.63595600000002E,36.556962N)min_(136.63682000000003E,36.556258N)_max_zoom_20_size_640x640.png\n",
      "/root/japan_roof_dataset_2000_solarpanel/val/json/[0,9](135.518130E,34.582310N)_center_(135.51769800000002E,34.582662N)min_(135.51856200000003E,34.581958N)_max_zoom_20_size_640x640.json /root/japan_roof_dataset_2000_solarpanel/val/image/[0,9](135.518130E,34.582310N)_center_(135.51769800000002E,34.582662N)min_(135.51856200000003E,34.581958N)_max_zoom_20_size_640x640.png\n",
      "/root/japan_roof_dataset_2000_solarpanel/val/json/[0,12](136.644388E,36.556610N)_center_(136.643956E,36.556962N)min_(136.64482E,36.556258N)_max_zoom_20_size_640x640.json /root/japan_roof_dataset_2000_solarpanel/val/image/[0,12](136.644388E,36.556610N)_center_(136.643956E,36.556962N)min_(136.64482E,36.556258N)_max_zoom_20_size_640x640.png\n",
      "/root/japan_roof_dataset_2000_solarpanel/val/json/[1,1](136.635588E,36.556010N)_center_(136.63515600000002E,36.556362N)min_(136.63602000000003E,36.555658N)_max_zoom_20_size_640x640.json /root/japan_roof_dataset_2000_solarpanel/val/image/[1,1](136.635588E,36.556010N)_center_(136.63515600000002E,36.556362N)min_(136.63602000000003E,36.555658N)_max_zoom_20_size_640x640.png\n",
      "/root/japan_roof_dataset_2000_solarpanel/val/json/[1,1](135.511730E,34.581710N)_center_(135.511298E,34.582062N)min_(135.51216200000002E,34.581358N)_max_zoom_20_size_640x640.json /root/japan_roof_dataset_2000_solarpanel/val/image/[1,1](135.511730E,34.581710N)_center_(135.511298E,34.582062N)min_(135.51216200000002E,34.581358N)_max_zoom_20_size_640x640.png\n",
      "/root/japan_roof_dataset_2000_solarpanel/val/json/[0,13](136.645188E,36.556610N)_center_(136.644756E,36.556962N)min_(136.64562E,36.556258N)_max_zoom_20_size_640x640.json /root/japan_roof_dataset_2000_solarpanel/val/image/[0,13](136.645188E,36.556610N)_center_(136.644756E,36.556962N)min_(136.64562E,36.556258N)_max_zoom_20_size_640x640.png\n",
      "Images: 100\n",
      "Classes: ['BG', 'goodroof', 'parkinglot', 'road', 'trees', 'river', 'field', 'park', 'facility', 'solarpanel']\n"
     ]
    }
   ],
   "source": [
    "# Load validation dataset\n",
    "dataset = japan_roof.PascalVOCDataset()\n",
    "dataset.load_pascalvoc(JAPAN_ROOF_DIR, \"val\")\n",
    "\n",
    "# Must call before using the dataset\n",
    "dataset.prepare()\n",
    "\n",
    "print(\"Images: {}\\nClasses: {}\".format(len(dataset.image_ids), dataset.class_names))"
   ]
  },
  {
   "cell_type": "markdown",
   "metadata": {},
   "source": [
    "## Load Model"
   ]
  },
  {
   "cell_type": "code",
   "execution_count": 7,
   "metadata": {},
   "outputs": [
    {
     "name": "stdout",
     "output_type": "stream",
     "text": [
      "WARNING:tensorflow:From /usr/local/lib/python3.6/dist-packages/tensorflow/python/framework/op_def_library.py:263: colocate_with (from tensorflow.python.framework.ops) is deprecated and will be removed in a future version.\n",
      "Instructions for updating:\n",
      "Colocations handled automatically by placer.\n",
      "WARNING:tensorflow:From /root/Mask_RCNN/mrcnn/model.py:772: to_float (from tensorflow.python.ops.math_ops) is deprecated and will be removed in a future version.\n",
      "Instructions for updating:\n",
      "Use tf.cast instead.\n"
     ]
    }
   ],
   "source": [
    "# Create model in inference mode\n",
    "with tf.device(DEVICE):\n",
    "    model = modellib.MaskRCNN(mode=\"inference\", model_dir=MODEL_DIR,\n",
    "                              config=config)"
   ]
  },
  {
   "cell_type": "code",
   "execution_count": 8,
   "metadata": {
    "scrolled": false
   },
   "outputs": [
    {
     "name": "stdout",
     "output_type": "stream",
     "text": [
      "Loading weights  /root/Mask_RCNN/logs/pascalvoc20200629T0141/mask_rcnn_pascalvoc_9277.h5\n",
      "Re-starting from epoch 9277\n"
     ]
    }
   ],
   "source": [
    "# Set path to balloon weights file\n",
    "\n",
    "# Download file from the Releases page and set its path\n",
    "# https://github.com/matterport/Mask_RCNN/releases\n",
    "# weights_path = \"/path/to/mask_rcnn_balloon.h5\"\n",
    "\n",
    "# Or, load the last model you trained\n",
    "weights_path = model.find_last()\n",
    "\n",
    "# Load weights\n",
    "print(\"Loading weights \", weights_path)\n",
    "model.load_weights(weights_path, by_name=True)"
   ]
  },
  {
   "cell_type": "markdown",
   "metadata": {},
   "source": [
    "## Run Detection"
   ]
  },
  {
   "cell_type": "code",
   "execution_count": 9,
   "metadata": {},
   "outputs": [],
   "source": [
    "import colorsys\n",
    "\n",
    "def random_colors(N, bright=True):\n",
    "    \"\"\"\n",
    "    Generate random colors.\n",
    "    To get visually distinct colors, generate them in HSV space then\n",
    "    convert to RGB.\n",
    "    \"\"\"\n",
    "    brightness = 1.0 if bright else 0.7\n",
    "    hsv = [(i / N, 1, brightness) for i in range(N)]\n",
    "    colors = list(map(lambda c: colorsys.hsv_to_rgb(*c), hsv))\n",
    "    random.shuffle(colors)\n",
    "    return colors\n"
   ]
  },
  {
   "cell_type": "code",
   "execution_count": 10,
   "metadata": {},
   "outputs": [],
   "source": [
    "def apply_mask(image, mask, color, alpha=0.5):\n",
    "    \"\"\"Apply the given mask to the image.\n",
    "    \"\"\"\n",
    "    for c in range(3):\n",
    "        image[:, :, c] = np.where(mask == 1,\n",
    "                                  image[:, :, c] *\n",
    "                                  (1 - alpha) + alpha * color[c],\n",
    "                                  image[:, :, c])\n",
    "    return image"
   ]
  },
  {
   "cell_type": "code",
   "execution_count": 12,
   "metadata": {},
   "outputs": [
    {
     "name": "stdout",
     "output_type": "stream",
     "text": [
      "Processing 1 images\n",
      "image                    shape: (640, 640, 4)         min:    0.00000  max:  255.00000  uint8\n"
     ]
    },
    {
     "ename": "ValueError",
     "evalue": "operands could not be broadcast together with shapes (1024,1024,4) (3,) ",
     "output_type": "error",
     "traceback": [
      "\u001b[0;31m\u001b[0m",
      "\u001b[0;31mValueError\u001b[0mTraceback (most recent call last)",
      "\u001b[0;32m<ipython-input-12-a5ede5d84dd7>\u001b[0m in \u001b[0;36m<module>\u001b[0;34m\u001b[0m\n\u001b[1;32m     13\u001b[0m         \u001b[0mimage\u001b[0m \u001b[0;34m=\u001b[0m \u001b[0mio\u001b[0m\u001b[0;34m.\u001b[0m\u001b[0mimread\u001b[0m\u001b[0;34m(\u001b[0m\u001b[0mimage_path\u001b[0m\u001b[0;34m)\u001b[0m\u001b[0;34m\u001b[0m\u001b[0;34m\u001b[0m\u001b[0m\n\u001b[1;32m     14\u001b[0m \u001b[0;34m\u001b[0m\u001b[0m\n\u001b[0;32m---> 15\u001b[0;31m         \u001b[0mresults\u001b[0m \u001b[0;34m=\u001b[0m \u001b[0mmodel\u001b[0m\u001b[0;34m.\u001b[0m\u001b[0mdetect\u001b[0m\u001b[0;34m(\u001b[0m\u001b[0;34m[\u001b[0m\u001b[0mimage\u001b[0m\u001b[0;34m]\u001b[0m\u001b[0;34m,\u001b[0m \u001b[0mverbose\u001b[0m\u001b[0;34m=\u001b[0m\u001b[0;36m1\u001b[0m\u001b[0;34m)\u001b[0m\u001b[0;34m\u001b[0m\u001b[0;34m\u001b[0m\u001b[0m\n\u001b[0m\u001b[1;32m     16\u001b[0m \u001b[0;34m\u001b[0m\u001b[0m\n\u001b[1;32m     17\u001b[0m         \u001b[0;31m# Display results\u001b[0m\u001b[0;34m\u001b[0m\u001b[0;34m\u001b[0m\u001b[0;34m\u001b[0m\u001b[0m\n",
      "\u001b[0;32m~/Mask_RCNN/mrcnn/model.py\u001b[0m in \u001b[0;36mdetect\u001b[0;34m(self, images, verbose)\u001b[0m\n\u001b[1;32m   2501\u001b[0m \u001b[0;34m\u001b[0m\u001b[0m\n\u001b[1;32m   2502\u001b[0m         \u001b[0;31m# Mold inputs to format expected by the neural network\u001b[0m\u001b[0;34m\u001b[0m\u001b[0;34m\u001b[0m\u001b[0;34m\u001b[0m\u001b[0m\n\u001b[0;32m-> 2503\u001b[0;31m         \u001b[0mmolded_images\u001b[0m\u001b[0;34m,\u001b[0m \u001b[0mimage_metas\u001b[0m\u001b[0;34m,\u001b[0m \u001b[0mwindows\u001b[0m \u001b[0;34m=\u001b[0m \u001b[0mself\u001b[0m\u001b[0;34m.\u001b[0m\u001b[0mmold_inputs\u001b[0m\u001b[0;34m(\u001b[0m\u001b[0mimages\u001b[0m\u001b[0;34m)\u001b[0m\u001b[0;34m\u001b[0m\u001b[0;34m\u001b[0m\u001b[0m\n\u001b[0m\u001b[1;32m   2504\u001b[0m \u001b[0;34m\u001b[0m\u001b[0m\n\u001b[1;32m   2505\u001b[0m         \u001b[0;31m# Validate image sizes\u001b[0m\u001b[0;34m\u001b[0m\u001b[0;34m\u001b[0m\u001b[0;34m\u001b[0m\u001b[0m\n",
      "\u001b[0;32m~/Mask_RCNN/mrcnn/model.py\u001b[0m in \u001b[0;36mmold_inputs\u001b[0;34m(self, images)\u001b[0m\n\u001b[1;32m   2400\u001b[0m                 \u001b[0mmax_dim\u001b[0m\u001b[0;34m=\u001b[0m\u001b[0mself\u001b[0m\u001b[0;34m.\u001b[0m\u001b[0mconfig\u001b[0m\u001b[0;34m.\u001b[0m\u001b[0mIMAGE_MAX_DIM\u001b[0m\u001b[0;34m,\u001b[0m\u001b[0;34m\u001b[0m\u001b[0;34m\u001b[0m\u001b[0m\n\u001b[1;32m   2401\u001b[0m                 mode=self.config.IMAGE_RESIZE_MODE)\n\u001b[0;32m-> 2402\u001b[0;31m             \u001b[0mmolded_image\u001b[0m \u001b[0;34m=\u001b[0m \u001b[0mmold_image\u001b[0m\u001b[0;34m(\u001b[0m\u001b[0mmolded_image\u001b[0m\u001b[0;34m,\u001b[0m \u001b[0mself\u001b[0m\u001b[0;34m.\u001b[0m\u001b[0mconfig\u001b[0m\u001b[0;34m)\u001b[0m\u001b[0;34m\u001b[0m\u001b[0;34m\u001b[0m\u001b[0m\n\u001b[0m\u001b[1;32m   2403\u001b[0m             \u001b[0;31m# Build image_meta\u001b[0m\u001b[0;34m\u001b[0m\u001b[0;34m\u001b[0m\u001b[0;34m\u001b[0m\u001b[0m\n\u001b[1;32m   2404\u001b[0m             image_meta = compose_image_meta(\n",
      "\u001b[0;32m~/Mask_RCNN/mrcnn/model.py\u001b[0m in \u001b[0;36mmold_image\u001b[0;34m(images, config)\u001b[0m\n\u001b[1;32m   2801\u001b[0m     \u001b[0mcolors\u001b[0m \u001b[0;32min\u001b[0m \u001b[0mRGB\u001b[0m \u001b[0morder\u001b[0m\u001b[0;34m.\u001b[0m\u001b[0;34m\u001b[0m\u001b[0;34m\u001b[0m\u001b[0m\n\u001b[1;32m   2802\u001b[0m     \"\"\"\n\u001b[0;32m-> 2803\u001b[0;31m     \u001b[0;32mreturn\u001b[0m \u001b[0mimages\u001b[0m\u001b[0;34m.\u001b[0m\u001b[0mastype\u001b[0m\u001b[0;34m(\u001b[0m\u001b[0mnp\u001b[0m\u001b[0;34m.\u001b[0m\u001b[0mfloat32\u001b[0m\u001b[0;34m)\u001b[0m \u001b[0;34m-\u001b[0m \u001b[0mconfig\u001b[0m\u001b[0;34m.\u001b[0m\u001b[0mMEAN_PIXEL\u001b[0m\u001b[0;34m\u001b[0m\u001b[0;34m\u001b[0m\u001b[0m\n\u001b[0m\u001b[1;32m   2804\u001b[0m \u001b[0;34m\u001b[0m\u001b[0m\n\u001b[1;32m   2805\u001b[0m \u001b[0;34m\u001b[0m\u001b[0m\n",
      "\u001b[0;31mValueError\u001b[0m: operands could not be broadcast together with shapes (1024,1024,4) (3,) "
     ]
    }
   ],
   "source": [
    "import cv2\n",
    "    \n",
    "result_save_dir = \"./inference_result_\" + str(ckpt_number) + \"/\"\n",
    "if not os.path.exists(result_save_dir):\n",
    "    os.mkdir(result_save_dir)\n",
    "\n",
    "cnt = 0\n",
    "for path, dirs, files in os.walk(\"/root/japan_roof_with_trees/\"):\n",
    "# for path, dirs, files in os.walk(\"/root/japan_roof_dataset_2000_solarpanel/testtest/\"):\n",
    "    for file in files:\n",
    "        cnt += 1\n",
    "        image_path = os.path.join(path, file)\n",
    "        image = io.imread(image_path)\n",
    "\n",
    "        # png 이미지에 alpha 채널이 있다면 제거 (640, 640 ,4)  >> (640, 640, 3)\n",
    "        if image.shape[-1] == 4:\n",
    "            image = image[..., :3]\n",
    "        \n",
    "        results = model.detect([image], verbose=1)\n",
    "        \n",
    "        # Display results\n",
    "        r = results[0]\n",
    "        \n",
    "        boxes = r['rois']\n",
    "        masks = r['masks']\n",
    "        class_ids = r['class_ids']\n",
    "        class_names = dataset.class_names\n",
    "        scores = r['scores']\n",
    "        show_bbox = True\n",
    "        show_mask = True\n",
    "        captions = None\n",
    "        \n",
    "        # Number of instances\n",
    "        N = boxes.shape[0]\n",
    "        print('number_of_instances : ', N)\n",
    "        if not N:\n",
    "            print(\"\\n*** No instances to display *** \\n\")\n",
    "        else:\n",
    "            assert boxes.shape[0] == masks.shape[-1] == class_ids.shape[0]\n",
    "\n",
    "        # Generate random colors\n",
    "        colors = random_colors(N)\n",
    "\n",
    "        # Show area outside image boundaries.\n",
    "        height, width = image.shape[:2]\n",
    "\n",
    "        masked_image = image.astype(np.uint32).copy()\n",
    "        image = cv2.cvtColor(image, cv2.COLOR_BGR2RGB)\n",
    "        \n",
    "        for i in range(N):\n",
    "            float_color = colors[i]\n",
    "            color = [int(element * 255) for element in float_color]\n",
    "            \n",
    "            # Bounding box\n",
    "            if not np.any(boxes[i]):\n",
    "                # Skip this instance. Has no bbox. Likely lost in image cropping.\n",
    "                continue\n",
    "            y1, x1, y2, x2 = boxes[i]\n",
    "\n",
    "            if show_bbox:\n",
    "                cv2.rectangle(image, (x1, y1), (x2, y2), color, 2)\n",
    "                \n",
    "                \n",
    "            # Label\n",
    "            if not captions:\n",
    "                class_id = class_ids[i]\n",
    "                score = scores[i] if scores is not None else None\n",
    "                label = class_names[class_id]\n",
    "                caption = \"{} {:.3f}\".format(label, score) if score else label\n",
    "            else:\n",
    "                caption = captions[i]\n",
    "            cv2.putText(image, caption, (x1, y1 + 15), cv2.FONT_HERSHEY_SIMPLEX, 0.6, color, 2)\n",
    "            \n",
    "            \n",
    "            # Mask\n",
    "            mask = masks[:, :, i]\n",
    "            if show_mask:\n",
    "                masked_image = apply_mask(image, mask, color)\n",
    "\n",
    "        cv2.imwrite(result_save_dir + file, masked_image)\n",
    "        print(\"Image count : \", cnt)\n",
    "        \n",
    "        \n",
    "        "
   ]
  },
  {
   "cell_type": "code",
   "execution_count": null,
   "metadata": {},
   "outputs": [],
   "source": []
  }
 ],
 "metadata": {
  "kernelspec": {
   "display_name": "Python 3",
   "language": "python",
   "name": "python3"
  },
  "language_info": {
   "codemirror_mode": {
    "name": "ipython",
    "version": 3
   },
   "file_extension": ".py",
   "mimetype": "text/x-python",
   "name": "python",
   "nbconvert_exporter": "python",
   "pygments_lexer": "ipython3",
   "version": "3.6.8"
  }
 },
 "nbformat": 4,
 "nbformat_minor": 2
}
